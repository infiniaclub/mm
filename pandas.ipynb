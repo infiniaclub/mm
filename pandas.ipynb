{
 "cells": [
  {
   "cell_type": "code",
   "execution_count": 1,
   "id": "d92ed979-bcb5-4501-9e5c-b9ed36c6d458",
   "metadata": {},
   "outputs": [
    {
     "name": "stdout",
     "output_type": "stream",
     "text": [
      "Modified DataFrame:\n",
      "      Name  Age           City  Salary  Age_5_years_later\n",
      "0    Alice   25       New York   50000                 30\n",
      "1      Bob   30  San Francisco   60000                 35\n",
      "2  Charlie   35    Los Angeles   75000                 40\n",
      "3    David   28        Chicago   48000                 33\n",
      "\n",
      "Filtered Data:\n",
      "      Name  Age         City  Salary  Age_5_years_later\n",
      "2  Charlie   35  Los Angeles   75000                 40\n",
      "\n",
      "Grouped Data:\n",
      "City\n",
      "Chicago          48000.0\n",
      "Los Angeles      75000.0\n",
      "New York         50000.0\n",
      "San Francisco    60000.0\n",
      "Name: Salary, dtype: float64\n",
      "\n",
      "Accessing Specific Element:\n",
      "Name at index 1: Bob\n"
     ]
    }
   ],
   "source": [
    "import pandas as pd\n",
    "import numpy as np\n",
    "\n",
    "# Creating a DataFrame\n",
    "data = {\n",
    "    'Name': ['Alice', 'Bob', 'Charlie', 'David'],\n",
    "    'Age': [25, 30, 35, 28],\n",
    "    'City': ['New York', 'San Francisco', 'Los Angeles', 'Chicago']\n",
    "}\n",
    "\n",
    "df = pd.DataFrame(data)\n",
    "\n",
    "# Adding a new column\n",
    "df['Salary'] = [50000, 60000, 75000, 48000]\n",
    "\n",
    "# Performing operations on columns\n",
    "df['Age_5_years_later'] = df['Age'] + 5\n",
    "\n",
    "# Filtering data\n",
    "filtered_data = df[df['Age'] > 30]\n",
    "\n",
    "# Grouping by a column\n",
    "grouped_data = df.groupby('City')['Salary'].mean()\n",
    "\n",
    "# Accessing specific elements\n",
    "name = df.at[1, 'Name']  # Accessing the name at index 1\n",
    "\n",
    "# Displaying the modified DataFrame\n",
    "print(\"Modified DataFrame:\")\n",
    "print(df)\n",
    "\n",
    "# Displaying filtered data\n",
    "print(\"\\nFiltered Data:\")\n",
    "print(filtered_data)\n",
    "\n",
    "# Displaying grouped data\n",
    "print(\"\\nGrouped Data:\")\n",
    "print(grouped_data)\n",
    "\n",
    "# Accessing specific elements\n",
    "print(\"\\nAccessing Specific Element:\")\n",
    "print(\"Name at index 1:\", name)"
   ]
  }
 ],
 "metadata": {
  "kernelspec": {
   "display_name": "Python 3 (ipykernel)",
   "language": "python",
   "name": "python3"
  },
  "language_info": {
   "codemirror_mode": {
    "name": "ipython",
    "version": 3
   },
   "file_extension": ".py",
   "mimetype": "text/x-python",
   "name": "python",
   "nbconvert_exporter": "python",
   "pygments_lexer": "ipython3",
   "version": "3.11.2"
  }
 },
 "nbformat": 4,
 "nbformat_minor": 5
}
