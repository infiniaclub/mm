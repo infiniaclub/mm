{
 "cells": [
  {
   "cell_type": "code",
   "execution_count": 2,
   "id": "33c16264-b410-402e-b09d-c462f4e0264e",
   "metadata": {},
   "outputs": [],
   "source": [
    "import numpy as np\n",
    "\n",
    "# Creating Arrays\n",
    "arr_1d = np.array([1, 2, 3])\n",
    "arr_2d = np.array([[1, 2, 3], [4, 5, 6]])\n",
    "zeros_array = np.zeros((2, 3))\n",
    "ones_array = np.ones((3, 2))\n",
    "range_array = np.arange(0, 10, 2)\n",
    "identity_matrix = np.eye(3)  # Identity matrix of size 3x3\n",
    "random_matrix = np.random.randint(0, 10, size=(3, 3))  # Random integer matrix\n",
    "\n",
    "# Array Operations\n",
    "arr1 = np.array([1, 2, 3])\n",
    "arr2 = np.array([4, 5, 6])\n",
    "\n",
    "result_add = arr1 + arr2\n",
    "result_sub = arr1 - arr2\n",
    "result_mul = arr1 * arr2\n",
    "result_div = arr1 / arr2\n",
    "\n",
    "# Array Manipulation\n",
    "arr = np.array([[1, 2, 3], [4, 5, 6]])\n",
    "\n",
    "transposed_arr = arr.T\n",
    "reshaped_arr = arr.reshape((3, 2))\n",
    "flattened_arr = arr.flatten()\n",
    "concatenated_arr = np.concatenate((arr, arr), axis=1)\n",
    "\n",
    "# Universal Functions (ufuncs)\n",
    "ufunc_arr = np.array([1, 2, 3, 4])\n",
    "\n",
    "sqrt_result = np.sqrt(ufunc_arr)\n",
    "exp_result = np.exp(ufunc_arr)\n",
    "log_result = np.log(ufunc_arr)\n",
    "sin_result = np.sin(ufunc_arr)\n",
    "\n",
    "# Indexing and Slicing\n",
    "indexing_arr = np.array([[1, 2, 3], [4, 5, 6]])\n",
    "\n",
    "element = indexing_arr[1, 2]\n",
    "subset = indexing_arr[:, 1:3]\n"
   ]
  }
 ],
 "metadata": {
  "kernelspec": {
   "display_name": "Python 3 (ipykernel)",
   "language": "python",
   "name": "python3"
  },
  "language_info": {
   "codemirror_mode": {
    "name": "ipython",
    "version": 3
   },
   "file_extension": ".py",
   "mimetype": "text/x-python",
   "name": "python",
   "nbconvert_exporter": "python",
   "pygments_lexer": "ipython3",
   "version": "3.11.2"
  }
 },
 "nbformat": 4,
 "nbformat_minor": 5
}
