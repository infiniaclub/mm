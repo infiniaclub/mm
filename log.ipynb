{
 "cells": [
  {
   "cell_type": "code",
   "execution_count": 31,
   "id": "8976312b-8b8f-4778-bca2-a2ef30e9ad11",
   "metadata": {},
   "outputs": [
    {
     "name": "stdout",
     "output_type": "stream",
     "text": [
      "The accuracy is 81.81818181818183\n",
      "\n",
      "\n",
      " Output Prediction:\n",
      "\n",
      "      Pregnancies  Glucose  BloodPressure  SkinThickness  Insulin   BMI  \\\n",
      "243            6      119             50             22      176  27.1   \n",
      "270           10      101             86             37        0  45.6   \n",
      "299            8      112             72              0        0  23.6   \n",
      "195            5      158             84             41      210  39.4   \n",
      "320            4      129             60             12      231  27.5   \n",
      "439            6      107             88              0        0  36.8   \n",
      "763           10      101             76             48      180  32.9   \n",
      "276            7      106             60             24        0  26.5   \n",
      "548            1      164             82             43       67  32.8   \n",
      "100            1      163             72              0        0  39.0   \n",
      "\n",
      "     DiabetesPedigreeFunction  Age  label  predicted_label  \n",
      "243                     1.318   33      1                0  \n",
      "270                     1.136   38      1                1  \n",
      "299                     0.840   58      0                0  \n",
      "195                     0.395   29      1                1  \n",
      "320                     0.527   31      0                0  \n",
      "439                     0.727   31      0                0  \n",
      "763                     0.171   63      0                0  \n",
      "276                     0.296   29      1                0  \n",
      "548                     0.341   50      0                1  \n",
      "100                     1.222   33      1                1  \n"
     ]
    },
    {
     "name": "stderr",
     "output_type": "stream",
     "text": [
      "C:\\Users\\Fiza\\AppData\\Local\\Programs\\Python\\Python311\\Lib\\site-packages\\sklearn\\linear_model\\_logistic.py:458: ConvergenceWarning: lbfgs failed to converge (status=1):\n",
      "STOP: TOTAL NO. of ITERATIONS REACHED LIMIT.\n",
      "\n",
      "Increase the number of iterations (max_iter) or scale the data as shown in:\n",
      "    https://scikit-learn.org/stable/modules/preprocessing.html\n",
      "Please also refer to the documentation for alternative solver options:\n",
      "    https://scikit-learn.org/stable/modules/linear_model.html#logistic-regression\n",
      "  n_iter_i = _check_optimize_result(\n"
     ]
    }
   ],
   "source": [
    "from sklearn.linear_model import LogisticRegression\n",
    "import numpy as np\n",
    "import pandas as pd\n",
    "from sklearn.model_selection import train_test_split\n",
    "\n",
    "df = pd.read_csv(\"C:\\\\Users\\\\Fiza\\Downloads\\\\diabetes.csv\")\n",
    "df.head()\n",
    "x = df.drop(\"Outcome\", axis=1)\n",
    "y = df[\"Outcome\"]\n",
    "\n",
    "x_t, x_test, y_t, y_test = train_test_split(x,y,test_size=0.20)\n",
    "log= LogisticRegression()\n",
    "log.fit(x_t, y_t)\n",
    "pre= log.predict(x_test)\n",
    "print(f\"The accuracy is {log.score(x_test, y_test)*100}\")\n",
    "df_test = pd.DataFrame(x_test)\n",
    "df_test['label'] = y_test\n",
    "df_test['predicted_label'] = pre\n",
    "print(\"\\n\\n Output Prediction:\\n\\n\", df_test.head(10))\n"
   ]
  },
  {
   "cell_type": "code",
   "execution_count": null,
   "id": "693fd049-4698-47d1-b2b3-3a9e3296d4a4",
   "metadata": {},
   "outputs": [],
   "source": []
  }
 ],
 "metadata": {
  "kernelspec": {
   "display_name": "Python 3 (ipykernel)",
   "language": "python",
   "name": "python3"
  },
  "language_info": {
   "codemirror_mode": {
    "name": "ipython",
    "version": 3
   },
   "file_extension": ".py",
   "mimetype": "text/x-python",
   "name": "python",
   "nbconvert_exporter": "python",
   "pygments_lexer": "ipython3",
   "version": "3.11.2"
  }
 },
 "nbformat": 4,
 "nbformat_minor": 5
}
