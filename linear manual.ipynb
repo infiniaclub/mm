{
 "cells": [
  {
   "cell_type": "code",
   "execution_count": 17,
   "id": "5af08dfe-566f-4a1d-9c81-5dbdb5db9416",
   "metadata": {},
   "outputs": [
    {
     "name": "stdout",
     "output_type": "stream",
     "text": [
      "8.0 15.0\n",
      "0.6555555555555556 slope\n",
      "9.755555555555556 intercept\n",
      "16.96666666666667\n",
      "    x   y    p    q  psqr   pxq\n",
      "0   3  12 -5.0 -3.0  25.0  15.0\n",
      "1   4  11 -4.0 -4.0  16.0  16.0\n",
      "2   6  15 -2.0  0.0   4.0  -0.0\n",
      "3  10  16  2.0  1.0   4.0   2.0\n",
      "4  12  19  4.0  4.0  16.0  16.0\n",
      "5  13  17  5.0  2.0  25.0  10.0\n"
     ]
    }
   ],
   "source": [
    "import numpy as np\n",
    "import pandas as pd\n",
    "\n",
    "x=np.array([3,4,6,10,12,13])\n",
    "y=np.array([12,11,15,16,19,17])\n",
    "\n",
    "data=pd.DataFrame({\"x\":x,\"y\":y})\n",
    "\n",
    "x_mean=(data[\"x\"]).mean()\n",
    "y_mean=(data[\"y\"]).mean()\n",
    "\n",
    "print(x_mean,y_mean)\n",
    "\n",
    "data[\"p\"]=[x-x_mean for x in data[\"x\"]]\n",
    "data[\"q\"]=[y-y_mean for y in data[\"y\"]]\n",
    "data[\"psqr\"]=[p*p for p in data[\"p\"]]\n",
    "\n",
    "data[\"pxq\"]=[p*q for p,q in zip(data[\"p\"],data[\"q\"])]\n",
    "\n",
    "sumofpxq=sum(data[\"pxq\"])\n",
    "sumofpsqr=sum(data[\"psqr\"])\n",
    "\n",
    "m=sumofpxq/sumofpsqr\n",
    "\n",
    "c=y_mean-m*x_mean\n",
    "\n",
    "print(m,\"slope\")\n",
    "print(c,\"intercept\")\n",
    "\n",
    "\n",
    "\n",
    "\n",
    "y=m*11+c\n",
    "print(y)\n",
    "print(data)"
   ]
  },
  {
   "cell_type": "code",
   "execution_count": null,
   "id": "16d3b078-8774-45a0-bc06-05475ea0d73e",
   "metadata": {},
   "outputs": [],
   "source": []
  },
  {
   "cell_type": "code",
   "execution_count": null,
   "id": "c0ee0095-f2f1-4f5f-a1fb-f14e22a94faf",
   "metadata": {},
   "outputs": [],
   "source": []
  },
  {
   "cell_type": "code",
   "execution_count": null,
   "id": "6d971348-4dca-4a28-99a5-6ecb51252b85",
   "metadata": {},
   "outputs": [],
   "source": []
  }
 ],
 "metadata": {
  "kernelspec": {
   "display_name": "Python 3 (ipykernel)",
   "language": "python",
   "name": "python3"
  },
  "language_info": {
   "codemirror_mode": {
    "name": "ipython",
    "version": 3
   },
   "file_extension": ".py",
   "mimetype": "text/x-python",
   "name": "python",
   "nbconvert_exporter": "python",
   "pygments_lexer": "ipython3",
   "version": "3.10.0"
  }
 },
 "nbformat": 4,
 "nbformat_minor": 5
}
